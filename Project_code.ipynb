{
 "cells": [
  {
   "cell_type": "code",
   "execution_count": 5,
   "metadata": {},
   "outputs": [
    {
     "data": {
      "text/html": [
       "<style>.container { width:100% !important; }</style>"
      ],
      "text/plain": [
       "<IPython.core.display.HTML object>"
      ]
     },
     "metadata": {},
     "output_type": "display_data"
    },
    {
     "ename": "FileNotFoundError",
     "evalue": "[Errno 2] No such file or directory: 'hdfs://192.168.1.153:9000/team09/SongCSV.csv'",
     "output_type": "error",
     "traceback": [
      "\u001b[0;31m---------------------------------------------------------------------------\u001b[0m",
      "\u001b[0;31mFileNotFoundError\u001b[0m                         Traceback (most recent call last)",
      "\u001b[0;32m<ipython-input-5-81958f7c98f8>\u001b[0m in \u001b[0;36m<module>\u001b[0;34m()\u001b[0m\n\u001b[1;32m      2\u001b[0m \u001b[0mdisplay\u001b[0m\u001b[0;34m(\u001b[0m\u001b[0mHTML\u001b[0m\u001b[0;34m(\u001b[0m\u001b[0;34m\"<style>.container { width:100% !important; }</style>\"\u001b[0m\u001b[0;34m)\u001b[0m\u001b[0;34m)\u001b[0m\u001b[0;34m\u001b[0m\u001b[0;34m\u001b[0m\u001b[0m\n\u001b[1;32m      3\u001b[0m \u001b[0;34m\u001b[0m\u001b[0m\n\u001b[0;32m----> 4\u001b[0;31m \u001b[0;32mfrom\u001b[0m \u001b[0mMSD_Conversion\u001b[0m \u001b[0;32mimport\u001b[0m \u001b[0mmsdHDF5toCSV\u001b[0m\u001b[0;34m,\u001b[0m \u001b[0mhdf5_getters\u001b[0m\u001b[0;34m\u001b[0m\u001b[0;34m\u001b[0m\u001b[0m\n\u001b[0m\u001b[1;32m      5\u001b[0m \u001b[0;32mfrom\u001b[0m \u001b[0mpprint\u001b[0m \u001b[0;32mimport\u001b[0m \u001b[0mpprint\u001b[0m\u001b[0;34m\u001b[0m\u001b[0;34m\u001b[0m\u001b[0m\n\u001b[1;32m      6\u001b[0m \u001b[0;32mfrom\u001b[0m \u001b[0mpyspark\u001b[0m\u001b[0;34m.\u001b[0m\u001b[0msql\u001b[0m \u001b[0;32mimport\u001b[0m \u001b[0mSparkSession\u001b[0m\u001b[0;34m\u001b[0m\u001b[0;34m\u001b[0m\u001b[0m\n",
      "\u001b[0;32m/home/ubuntu/Data-Millionare/MSD_Conversion/msdHDF5toCSV.py\u001b[0m in \u001b[0;36m<module>\u001b[0;34m()\u001b[0m\n\u001b[1;32m    295\u001b[0m     \u001b[0moutputFile1\u001b[0m\u001b[0;34m.\u001b[0m\u001b[0mclose\u001b[0m\u001b[0;34m(\u001b[0m\u001b[0;34m)\u001b[0m\u001b[0;34m\u001b[0m\u001b[0;34m\u001b[0m\u001b[0m\n\u001b[1;32m    296\u001b[0m \u001b[0;34m\u001b[0m\u001b[0m\n\u001b[0;32m--> 297\u001b[0;31m \u001b[0mmain\u001b[0m\u001b[0;34m(\u001b[0m\u001b[0;34m)\u001b[0m\u001b[0;34m\u001b[0m\u001b[0;34m\u001b[0m\u001b[0m\n\u001b[0m",
      "\u001b[0;32m/home/ubuntu/Data-Millionare/MSD_Conversion/msdHDF5toCSV.py\u001b[0m in \u001b[0;36mmain\u001b[0;34m()\u001b[0m\n\u001b[1;32m     84\u001b[0m \u001b[0;32mdef\u001b[0m \u001b[0mmain\u001b[0m\u001b[0;34m(\u001b[0m\u001b[0;34m)\u001b[0m\u001b[0;34m:\u001b[0m\u001b[0;34m\u001b[0m\u001b[0;34m\u001b[0m\u001b[0m\n\u001b[1;32m     85\u001b[0m     \u001b[0;31m#csv.writer('hdfs://192.168.1.153:9000/team09/SongCSV.csv')\u001b[0m\u001b[0;34m\u001b[0m\u001b[0;34m\u001b[0m\u001b[0;34m\u001b[0m\u001b[0m\n\u001b[0;32m---> 86\u001b[0;31m     \u001b[0moutputFile1\u001b[0m \u001b[0;34m=\u001b[0m \u001b[0mopen\u001b[0m\u001b[0;34m(\u001b[0m\u001b[0;34m'hdfs://192.168.1.153:9000/team09/SongCSV.csv'\u001b[0m\u001b[0;34m,\u001b[0m \u001b[0;34m'w'\u001b[0m\u001b[0;34m)\u001b[0m\u001b[0;34m\u001b[0m\u001b[0;34m\u001b[0m\u001b[0m\n\u001b[0m\u001b[1;32m     87\u001b[0m     \u001b[0mcsvRowString\u001b[0m \u001b[0;34m=\u001b[0m \u001b[0;34m\"\"\u001b[0m\u001b[0;34m\u001b[0m\u001b[0;34m\u001b[0m\u001b[0m\n\u001b[1;32m     88\u001b[0m \u001b[0;34m\u001b[0m\u001b[0m\n",
      "\u001b[0;31mFileNotFoundError\u001b[0m: [Errno 2] No such file or directory: 'hdfs://192.168.1.153:9000/team09/SongCSV.csv'"
     ]
    }
   ],
   "source": [
    "from IPython.core.display import display, HTML\n",
    "display(HTML(\"<style>.container { width:100% !important; }</style>\"))\n",
    "\n",
    "from MSD_Conversion import msdHDF5toCSV, hdf5_getters\n",
    "from pprint import pprint\n",
    "from pyspark.sql import SparkSession\n",
    "import time\n",
    "\n",
    "#Start stopwatch\n",
    "startTime = time.time()\n",
    "\n",
    "# New API\n",
    "spark_session = SparkSession\\\n",
    "        .builder\\\n",
    "        .master(\"local[1]\") \\\n",
    "        .config(\"spark.dynamicAllocation.enabled\", True)\\\n",
    "        .config(\"spark.shuffle.service.enabled\", True)\\\n",
    "        .config(\"spark.dynamicAllocation.executorIdleTimeout\",\"30s\")\\\n",
    "        .config(\"spark.executor.cores\",4)\\\n",
    "        .appName(\"million_songs_data\")\\\n",
    "        .getOrCreate()\n",
    "\n",
    "# Old API (RDD)\n",
    "spark_context = spark_session.sparkContext\n",
    "\n",
    "msdHDF5toCSV.main()\n",
    "\n",
    "endTime = time.time()\n",
    "\n",
    "print(\"Time Elapsed {}\".format((endTime-startTime)/60))"
   ]
  },
  {
   "cell_type": "code",
   "execution_count": 26,
   "metadata": {},
   "outputs": [],
   "source": [
    "data_frame = spark_session.read\\\n",
    "    .option(\"header\", \"true\")\\\n",
    "    .csv('file:///home/ubuntu/Data-Millionare/SongCSV.csv')\\\n",
    "    .cache()"
   ]
  },
  {
   "cell_type": "code",
   "execution_count": 27,
   "metadata": {},
   "outputs": [
    {
     "name": "stdout",
     "output_type": "stream",
     "text": [
      "+----------+--------------------+-------+--------------------+--------------------+--------------+--------------------+---------------+--------------------+------------+---------+------------+----------------------+-------+-------------+-----------------------+--------------------+----+\n",
      "|SongNumber|              SongID|AlbumID|           AlbumName|            ArtistID|ArtistLatitude|      ArtistLocation|ArtistLongitude|          ArtistName|Danceability| Duration|KeySignature|KeySignatureConfidence|  Tempo|TimeSignature|TimeSignatureConfidence|               Title|Year|\n",
      "+----------+--------------------+-------+--------------------+--------------------+--------------+--------------------+---------------+--------------------+------------+---------+------------+----------------------+-------+-------------+-----------------------+--------------------+----+\n",
      "|     10002|b'SOVLGJY12A8C13F...| 223563|b'Call of the Mas...|b'ARMQHX71187B989...|          null|       b'Atlanta GA'|           null|         b'Mastodon'|         0.0|280.21506|           5|                 0.555|173.205|            5|                   0.12|b'Deep Sea Creature'|2001|\n",
      "|     10003|b'SOFZBND12AB0182...| 546401|          b'Rock It'|b'ARZRR0M1187FB3E...|          null|                 b''|           null|        b'Sub Focus'|         0.0|214.83057|           8|                 0.038| 86.991|            4|                  0.378|b'Follow The Ligh...|2009|\n",
      "|     10004|b'SOHZXUO12A6D4FB...|  59374|b'Fun With Dick A...|b'ARPWZPV1187FB51...|          null|                 b''|           null| b'Theodore Shapiro'|         0.0| 82.31138|           0|                   0.0|124.894|            4|                  0.551|    b'The Big Stall'|2006|\n",
      "|     10005|b'SOGHXZH12A8C138...| 289547|       b'Invincible'|b'ARXPPEY1187FB51...|          null|                 b''|           null|  b'Michael Jackson'|         0.0|289.38404|          11|                 0.476|117.362|            4|                    1.0|  b'Heaven Can Wait'|2001|\n",
      "|     10006|b'SOHGGKC12A8C130...| 192598|b'Coram Deo II: P...|b'ART1R9I1187B9B3...|          null|                 b''|           null|  b'Margaret Becker'|         0.0|242.12853|           4|                 0.242|110.828|            3|                  0.725|b'Sweet Suffering...|1993|\n",
      "|     10007|b'SOMUFQB12A81C22...| 179843|          b'Sanfona'|b'ARO81XD1187FB38...|          null|                 b''|           null| b'Egberto Gismonti'|         0.0|   1.2273|           0|                   0.0|    0.0|            3|                    0.0|    b'Carta De Amor'|1981|\n",
      "|     10008|b'SOFNEXF12A8AE46...| 182774|b'When Disaster S...|b'ARBCUNV1187B98A...|          null|b'East Flatbush B...|           null|     b'Busta Rhymes'|         0.0|205.00853|          10|                 0.593| 100.44|            4|                  0.804|b'When Disaster S...|   0|\n",
      "|     10009|b'SOYEFZY12A8C133...| 287223|  b'X.O. Experience'|b'ARLLUSZ1187B98A...|          null|                 b''|           null|         b'Tha Liks'|         0.0| 33.09669|           3|                 0.545|156.021|            5|                  0.381|  b'Yo Mouth (Skit)'|2001|\n",
      "|     10010|b'SOFLVQE12AB017F...| 501703|\"b\"The Flat Earth...|b'ARMG34A1187FB54...|      30.08374|      b'Cairo Egypt'|       31.25536|     b'Thomas Dolby'|         0.0|437.31546|          11|                 0.065| 69.114|            5|                    1.0|b'Dissidents (The...|   0|\n",
      "|     10011|b'SOAPOVV12AB018C...| 763657|     b'Mister Green'|b'ARKJJZN1187B9AF...|          null|                 b''|           null|             b'Taal'|         0.0| 17.73669|           0|                 0.007|219.569|            4|                    0.0|           b'Noises'|2000|\n",
      "|     10012|b'SOJZBCP12A67ADA...|  42565|     b'The Dutchess'|b'ARMRCET1187FB52...|      33.99363|b'Hacienda Height...|     -117.97092|           b'Fergie'|         0.0|293.19791|          11|                 0.238|150.003|            4|                  0.463|           b'Velvet'|   0|\n",
      "|     10013|b'SOPAWON12AAF3B2...| 322246|b'Urban Car Tunes...|b'ARHIC3Q1187B9B1...|      40.65507|         b'Brooklyn'|      -73.94888|   b'Big Daddy Kane'|         0.0|190.82404|          11|                 0.429| 98.011|            4|                    1.0|         b'Flame On'|2001|\n",
      "|     10014|b'SORTJEP12A58A7B...| 129766|b'Scott Joplin Pi...|b'AR76YOD1187FB46...|      40.71455|      b'New York NY'|      -74.00712|    b'Joshua Rifkin'|         0.0|229.53751|           7|                  0.74|158.569|            1|                    0.0|b'Paragon Rag  (L...|1994|\n",
      "|     10015|b'SOYJMPE12A6D4F4...|  78918|b'The Trashcan El...|b'ARAFRFP1187FB42...|          null|                 b''|           null|       b'Williamson'|         0.0|223.81669|          11|                 0.908|140.003|            4|                    0.0|b'Cool People Mak...|2005|\n",
      "|     10016|b'SOGACRX12A8AE48...| 138321|b'The Alchemy Ind...|b'ARIMZQZ1187B9AD...|          null|        b'Orange CA'|           null|           b'Thrice'|         0.0|224.28689|           0|                 0.402|125.604|            4|                    1.0|b'Alchemy Index V...|   0|\n",
      "|     10017|b'SOYDOBA12A8C138...| 156712|b'Perro Malagrade...|b'ARP07GD1187B9B9...|          null|                 b''|           null|b'Los Originales ...|         0.0|250.48771|           5|                 0.572| 103.02|            1|                  0.025|b'Joaquin Torres ...|   0|\n",
      "|     10018|b'SOPDRUR12AB0182...| 629292|\"b\"Sans Fusils_ N...|b'ARRWAD71187FB3F...|      40.71455|b'NY - New York C...|      -74.00712|b'Martha Wainwright'|         0.0|287.08526|          10|                 0.513| 82.124|            7|                   0.74|\"b\"C'est Toujours...|2009|\n",
      "|     10019|b'SOHGILP12A8C132...| 710242| b'The Omaha Record'|b'ARELMNO1187FB52...|      38.03213|b'Charlottesville...|      -78.47753|b'Bottom Of The H...|         0.0|279.90159|           4|                 0.214| 74.481|            1|                    0.0|        b'Eagle Eye'|2003|\n",
      "|     10020|b'SOPVVJD12A58A7C...| 420743|b'Infinite Love S...|b'ARS0W831187B9AF...|          null|                 b''|           null|b'Maximilian Hecker'|         0.0|295.60118|           2|                 0.876| 65.941|            4|                    0.0|       b'Let Me Out'|2001|\n",
      "|     10021|b'SOFVBVJ12A8C140...| 633081|b'La ragazza dall...|b'AR8TCLH1187B9A8...|          null|    b'Firenze Italy'|           null|   b'Piero Umiliani'|         0.0|150.17751|           9|                   0.0|  88.49|            4|                  0.568|\"b\"Ricerca nell' ...|   0|\n",
      "+----------+--------------------+-------+--------------------+--------------------+--------------+--------------------+---------------+--------------------+------------+---------+------------+----------------------+-------+-------------+-----------------------+--------------------+----+\n",
      "only showing top 20 rows\n",
      "\n"
     ]
    }
   ],
   "source": [
    "data_frame.show()"
   ]
  },
  {
   "cell_type": "code",
   "execution_count": 31,
   "metadata": {},
   "outputs": [
    {
     "name": "stdout",
     "output_type": "stream",
     "text": [
      "10001\n",
      "+---------+\n",
      "| Duration|\n",
      "+---------+\n",
      "|280.21506|\n",
      "|214.83057|\n",
      "| 82.31138|\n",
      "|289.38404|\n",
      "|242.12853|\n",
      "|   1.2273|\n",
      "|205.00853|\n",
      "| 33.09669|\n",
      "|437.31546|\n",
      "| 17.73669|\n",
      "|293.19791|\n",
      "|190.82404|\n",
      "|229.53751|\n",
      "|223.81669|\n",
      "|224.28689|\n",
      "|250.48771|\n",
      "|287.08526|\n",
      "|279.90159|\n",
      "|295.60118|\n",
      "|150.17751|\n",
      "+---------+\n",
      "only showing top 20 rows\n",
      "\n"
     ]
    },
    {
     "data": {
      "text/plain": [
       "10001"
      ]
     },
     "execution_count": 31,
     "metadata": {},
     "output_type": "execute_result"
    }
   ],
   "source": [
    "duration = data_frame.select('Duration')\n",
    "print(duration.count())\n",
    "duration_filtered = duration.filter(duration['Duration'].isNotNull())\n",
    "duration.show()\n",
    "duration_filtered.count()"
   ]
  },
  {
   "cell_type": "code",
   "execution_count": 37,
   "metadata": {},
   "outputs": [
    {
     "name": "stdout",
     "output_type": "stream",
     "text": [
      "+---------+-----------------+\n",
      "| Duration|Discrete duration|\n",
      "+---------+-----------------+\n",
      "|280.21506|              4.5|\n",
      "|214.83057|              3.5|\n",
      "| 82.31138|              1.5|\n",
      "|289.38403|              5.0|\n",
      "|242.12852|              4.0|\n",
      "|   1.2273|              0.0|\n",
      "|205.00853|              3.5|\n",
      "| 33.09669|              0.5|\n",
      "|437.31546|              7.5|\n",
      "| 17.73669|              0.5|\n",
      "| 293.1979|              5.0|\n",
      "|190.82404|              3.0|\n",
      "| 229.5375|              4.0|\n",
      "| 223.8167|              3.5|\n",
      "| 224.2869|              3.5|\n",
      "|250.48772|              4.0|\n",
      "|287.08527|              5.0|\n",
      "|279.90158|              4.5|\n",
      "|295.60117|              5.0|\n",
      "| 150.1775|              2.5|\n",
      "+---------+-----------------+\n",
      "only showing top 20 rows\n",
      "\n"
     ]
    }
   ],
   "source": [
    "from pyspark.sql.functions import udf\n",
    "from pyspark.sql.types import FloatType\n",
    "\n",
    "def time_conversion(duration):\n",
    "    duration_in_half_minutes = duration/30\n",
    "    discretitized_duration = round(duration_in_half_minutes)\n",
    "    discretized_duration_in_minutes = discretitized_duration/2\n",
    "    return discretized_duration_in_minutes\n",
    "\n",
    "udf_time_conversion = udf(time_conversion, FloatType())\n",
    "\n",
    "duration_filtered = duration_filtered.withColumn('Duration', duration_filtered['Duration'].cast(FloatType()))\n",
    "\n",
    "discrete_duration = duration_filtered.withColumn('Discrete duration', udf_time_conversion('Duration'))\n",
    "discrete_duration.show()"
   ]
  },
  {
   "cell_type": "code",
   "execution_count": 44,
   "metadata": {},
   "outputs": [
    {
     "name": "stdout",
     "output_type": "stream",
     "text": [
      "+-----------------+-----+\n",
      "|Discrete duration|count|\n",
      "+-----------------+-----+\n",
      "|              0.0|   19|\n",
      "|              0.5|  102|\n",
      "|              1.0|  145|\n",
      "|              1.5|  229|\n",
      "|              2.0|  499|\n",
      "|              2.5|  986|\n",
      "|              3.0| 1496|\n",
      "|              3.5| 1633|\n",
      "|              4.0| 1558|\n",
      "|              4.5| 1120|\n",
      "|              5.0|  703|\n",
      "|              5.5|  450|\n",
      "|              6.0|  279|\n",
      "|              6.5|  191|\n",
      "|              7.0|  149|\n",
      "|              7.5|   96|\n",
      "|              8.0|   77|\n",
      "|              8.5|   71|\n",
      "|              9.0|   48|\n",
      "|              9.5|   25|\n",
      "+-----------------+-----+\n",
      "only showing top 20 rows\n",
      "\n"
     ]
    }
   ],
   "source": [
    "discrete_duration_grouped = discrete_duration.groupBy('Discrete duration').count().sort('Discrete duration', ascending=True)\n",
    "discrete_duration_grouped.show()"
   ]
  },
  {
   "cell_type": "code",
   "execution_count": 47,
   "metadata": {},
   "outputs": [],
   "source": [
    "discrete_duration_grouped.coalesce(1).write.csv('duration_distribution.csv')"
   ]
  },
  {
   "cell_type": "code",
   "execution_count": 51,
   "metadata": {},
   "outputs": [
    {
     "name": "stdout",
     "output_type": "stream",
     "text": [
      "[0.0, 0.5, 1.0, 1.5, 2.0, 2.5, 3.0, 3.5, 4.0, 4.5, 5.0, 5.5, 6.0, 6.5, 7.0, 7.5, 8.0, 8.5, 9.0, 9.5, 10.0, 10.5, 11.0, 11.5, 12.0, 12.5, 13.0, 13.5, 14.0, 14.5, 15.0, 15.5, 16.0, 16.5, 17.0, 17.5, 18.0, 19.0, 20.0, 20.5, 21.0, 21.5, 23.0, 23.5, 25.5, 26.5, 27.0, 28.0, 30.5]\n"
     ]
    }
   ],
   "source": [
    "discrete_duration_list = discrete_duration_grouped.select(\"Discrete duration\").rdd.flatMap(lambda x: x).collect()\n",
    "discrete_duration_count_list = discrete_duration_grouped.select(\"count\").rdd.flatMap(lambda x: x).collect()\n",
    "print(discrete_duration_list)"
   ]
  },
  {
   "cell_type": "code",
   "execution_count": 56,
   "metadata": {},
   "outputs": [],
   "source": [
    "import matplotlib.pyplot as plt"
   ]
  },
  {
   "cell_type": "code",
   "execution_count": 57,
   "metadata": {},
   "outputs": [
    {
     "data": {
      "text/plain": [
       "<BarContainer object of 49 artists>"
      ]
     },
     "execution_count": 57,
     "metadata": {},
     "output_type": "execute_result"
    },
    {
     "data": {
      "image/png": "[encoded data removed]",
      "text/plain": [
       "<Figure size 432x288 with 1 Axes>"
      ]
     },
     "metadata": {},
     "output_type": "display_data"
    }
   ],
   "source": [
    "plt.bar(discrete_duration_list, discrete_duration_count_list)"
   ]
  },
  {
   "cell_type": "code",
   "execution_count": null,
   "metadata": {},
   "outputs": [],
   "source": []
  }
 ],
 "metadata": {
  "kernelspec": {
   "display_name": "Python 3",
   "language": "python",
   "name": "python3"
  },
  "language_info": {
   "codemirror_mode": {
    "name": "ipython",
    "version": 3
   },
   "file_extension": ".py",
   "mimetype": "text/x-python",
   "name": "python",
   "nbconvert_exporter": "python",
   "pygments_lexer": "ipython3",
   "version": "3.6.7"
  }
 },
 "nbformat": 4,
 "nbformat_minor": 2
}
