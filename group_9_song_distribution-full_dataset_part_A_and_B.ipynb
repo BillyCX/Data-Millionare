{
 "cells": [
  {
   "cell_type": "code",
   "execution_count": 1,
   "metadata": {},
   "outputs": [],
   "source": [
    "from pyspark.sql import SparkSession\n",
    "import time\n",
    "\n",
    "#Start stopwatch\n",
    "startTime = time.time()\n",
    "\n",
    "# (8 cores, 16gb per machine) x 5 = 40 cores\n",
    "\n",
    "# New API\n",
    "spark_session = SparkSession\\\n",
    "        .builder\\\n",
    "        .master(\"spark://192.168.1.153:7077\") \\\n",
    "        .appName(\"group_09_1_full\")\\\n",
    "        .config(\"spark.dynamicAllocation.enabled\", True)\\\n",
    "        .config(\"spark.shuffle.service.enabled\", True)\\\n",
    "        .config(\"spark.dynamicAllocation.executorIdleTimeout\",\"30s\")\\\n",
    "        .config(\"spark.executor.cores\",8)\\\n",
    "        .getOrCreate()\n",
    "        #.config('spark.executor.memory', '10G')\\\n",
    "        #.config('spark.driver.memory', '10G')\\\n",
    "        #.config('spark.driver.maxResultSize', '10G')\\\n",
    "        \n",
    "      \n",
    "        \n",
    "# Old API (RDD)\n",
    "spark_context = spark_session.sparkContext"
   ]
  },
  {
   "cell_type": "code",
   "execution_count": 2,
   "metadata": {},
   "outputs": [],
   "source": [
    "import h5py\n",
    "import sys\n",
    "import io\n",
    "\n",
    "rdd_A = spark_context.binaryFiles(\"/mnt/ms/data/A/*/*/*\")\n",
    "\n",
    "rdd_B = spark_context.binaryFiles(\"/mnt/ms/data/B/*/*/*\")\n",
    "\n",
    "rdd=rdd_A.union(rdd_B)\n",
    "     # read a dataset and return it as a Python list #\n",
    "\n",
    "def f(x):\n",
    "    # return print(sys.path)\n",
    "    \n",
    "    # x[0] = filename\n",
    "    # x[1] = binary content\n",
    "    with h5py.File(io.BytesIO(x[1])) as f:\n",
    "        # drill down with a path\n",
    "        #return list(f.keys())\n",
    "        g = f['analysis']['songs']['duration']\n",
    "        # g is a 'dataset'\n",
    "        return list(g)\n",
    "\n",
    "rdd = rdd.map(f)#.cache()"
   ]
  },
  {
   "cell_type": "code",
   "execution_count": 3,
   "metadata": {},
   "outputs": [
    {
     "name": "stdout",
     "output_type": "stream",
     "text": [
      "[3.5, 3.5, 6.0, 6.0, 3.5, 4.5, 3.0, 5.5, 4.0, 3.5]\n",
      "77365\n"
     ]
    }
   ],
   "source": [
    "def time_conversion(duration):\n",
    "    duration_in_half_minutes = duration[0]/30\n",
    "    discretitized_duration = round(duration_in_half_minutes)\n",
    "    discretized_duration_in_minutes = discretitized_duration/2\n",
    "    return discretized_duration_in_minutes\n",
    "\n",
    "converted_rdd = rdd.map(time_conversion)\n",
    "print(converted_rdd.take(10))\n",
    "print(converted_rdd.count())"
   ]
  },
  {
   "cell_type": "code",
   "execution_count": 4,
   "metadata": {},
   "outputs": [
    {
     "name": "stdout",
     "output_type": "stream",
     "text": [
      "[(0.0, 156), (0.5, 760), (1.0, 1137), (1.5, 1766), (2.0, 3479), (2.5, 6969), (3.0, 10482), (3.5, 12530), (4.0, 11483), (4.5, 8326)]\n",
      "Time Elapsed 38.38657015959422\n"
     ]
    }
   ],
   "source": [
    "result = converted_rdd.map(lambda time: (time, 1)).reduceByKey(lambda a, b: a + b).sortBy(lambda x: x[0], True)\n",
    "print(result.take(10))\n",
    "endTime = time.time()\n",
    "print(\"Time Elapsed {}\".format((endTime-startTime)/60))"
   ]
  },
  {
   "cell_type": "code",
   "execution_count": 6,
   "metadata": {},
   "outputs": [
    {
     "data": {
      "image/png": "[encoded data removed]",
      "text/plain": [
       "<Figure size 432x288 with 1 Axes>"
      ]
     },
     "metadata": {},
     "output_type": "display_data"
    }
   ],
   "source": [
    "import matplotlib.pyplot as plt\n",
    "plt.bar(*zip(*result.collect()))\n",
    "plt.show()"
   ]
  },
  {
   "cell_type": "code",
   "execution_count": null,
   "metadata": {},
   "outputs": [],
   "source": []
  },
  {
   "cell_type": "code",
   "execution_count": null,
   "metadata": {},
   "outputs": [],
   "source": []
  }
 ],
 "metadata": {
  "kernelspec": {
   "display_name": "Python 3",
   "language": "python",
   "name": "python3"
  },
  "language_info": {
   "codemirror_mode": {
    "name": "ipython",
    "version": 3
   },
   "file_extension": ".py",
   "mimetype": "text/x-python",
   "name": "python",
   "nbconvert_exporter": "python",
   "pygments_lexer": "ipython3",
   "version": "3.6.7"
  }
 },
 "nbformat": 4,
 "nbformat_minor": 2
}
